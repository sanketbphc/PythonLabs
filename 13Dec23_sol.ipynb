{
 "cells": [
  {
   "cell_type": "markdown",
   "metadata": {},
   "source": [
    "Write a program using nested loops and append() to convert a 2 D list into a 1 D form.\n",
    "\n",
    "<br>\n",
    "Nested Loop :- <br>\n",
    "3 3 3 <br>\n",
    "4 5 6 <br>\n",
    "7 8 9 <br>\n",
    "\n",
    "Converted List:- <br>\n",
    "[3, 3, 3, 4, 5, 6, 7, 8, 9]\n"
   ]
  },
  {
   "cell_type": "markdown",
   "metadata": {},
   "source": [
    "Python Program to find the sum of all numbers in the given list. make sure that all numbers that are being added to the sum are unique numbers. <br>\n",
    "\n",
    "\n",
    "input:<br>\n",
    "[1,2,3,4,4,3,2,1,5,5]<br>\n",
    "\n",
    "output:<br>\n",
    "15"
   ]
  },
  {
   "cell_type": "markdown",
   "metadata": {},
   "source": [
    "Print All Words With Frequency K where K can be provided as input. You need to use get() to fetch the words and split() to separate the words in the sentence. <br>\n",
    "\n",
    "Input:<br>\n",
    "\n",
    "Many many welcome to Python Programming in a first year programming course called problem solving using Python\n",
    "\n",
    "2\n",
    "\n",
    "Output:\n",
    "Python\n",
    "\n"
   ]
  }
 ],
 "metadata": {
  "kernelspec": {
   "display_name": "Python 3",
   "language": "python",
   "name": "python3"
  },
  "language_info": {
   "codemirror_mode": {
    "name": "ipython",
    "version": 3
   },
   "file_extension": ".py",
   "mimetype": "text/x-python",
   "name": "python",
   "nbconvert_exporter": "python",
   "pygments_lexer": "ipython3",
   "version": "3.11.3"
  }
 },
 "nbformat": 4,
 "nbformat_minor": 2
}
