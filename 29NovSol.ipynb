{
 "cells": [
  {
   "cell_type": "markdown",
   "metadata": {},
   "source": [
    "Given a 2D array, devise a program that retrieves a subarray meeting the following criteria:\n",
    "\n",
    "Extract rows from the second to the fourth row of the original array.\n",
    "The elements within these rows should originate from the last three columns of their respective rows in the original array.\n",
    "Arrange the extracted rows in reversed order.\n",
    "For instance, considering the sample input:\n",
    "\n",
    "Sample Input:\n",
    "\n",
    "[[ 0, 1, 2, 3],\n",
    "[ 4, 5, 6, 7],\n",
    "[ 8, 9, 10, 11],\n",
    "[12, 13, 14, 15],\n",
    "[16, 17, 18, 19]]\n",
    "\n",
    "The desired output would be:\n",
    "\n",
    "array([[13, 14, 15],\n",
    "[ 9, 10, 11],\n",
    "[ 5, 6, 7]])\n",
    "\n",
    "Input Format:\n",
    "\n",
    "An input provided as a 2D list.\n",
    "\n",
    "Output Format:\n",
    "\n",
    "The resultant output represented as a 2D NumPy array.\n",
    "\n",
    "Note:\n",
    "\n",
    "This problem can be resolved utilizing negative indexing and slicing techniques."
   ]
  },
  {
   "cell_type": "code",
   "execution_count": null,
   "metadata": {
    "pycharm": {
     "is_executing": true
    }
   },
   "outputs": [],
   "source": [
    "\n"
   ]
  },
  {
   "cell_type": "markdown",
   "metadata": {},
   "source": [
    "Generate a sequence starting from a specified point with a designated length, where the gap between two consecutive elements in the sequence is also predetermined.\n",
    "\n",
    "Input Format:\n",
    "\n",
    "A single line containing three integers separated by spaces denoting the start point, sequence length, and the step size between consecutive elements in the sequence.\n",
    "\n",
    "Output Format:\n",
    "\n",
    "A NumPy array of integers.\n",
    "\n",
    "Sample Input:\n",
    "\n",
    "7 23 5\n",
    "\n",
    "Sample Output:\n",
    "\n",
    "[ 7, 12, 17, 22, 27, 32, 37, 42, 47, 52, 57, 62, 67, 72, 77, 82, 87, 92, 97, 102, 107, 112, 117]\n",
    "\n",
    "Note: Solve the given problem without the utilization of additional variables."
   ]
  },
  {
   "cell_type": "code",
   "execution_count": null,
   "metadata": {
    "pycharm": {
     "is_executing": true
    }
   },
   "outputs": [],
   "source": []
  },
  {
   "cell_type": "code",
   "execution_count": null,
   "metadata": {
    "pycharm": {
     "is_executing": true
    }
   },
   "outputs": [],
   "source": [
    "\n",
    "\n",
    "\n",
    "\n",
    "\n"
   ]
  }
 ],
 "metadata": {
  "kernelspec": {
   "display_name": "Python 3",
   "language": "python",
   "name": "python3"
  },
  "language_info": {
   "codemirror_mode": {
    "name": "ipython",
    "version": 3
   },
   "file_extension": ".py",
   "mimetype": "text/x-python",
   "name": "python",
   "nbconvert_exporter": "python",
   "pygments_lexer": "ipython3",
   "version": "3.11.3"
  }
 },
 "nbformat": 4,
 "nbformat_minor": 2
}
