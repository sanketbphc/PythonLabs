{
 "cells": [
  {
   "cell_type": "markdown",
   "metadata": {},
   "source": [
    "  Question 1 \n",
    "\n",
    "  Write a program to divide a given tuple into two tuples that contain even and odd indexed elements of the original tuple. Print both these tuples in the given output format.\n",
    "  \n",
    "  Note: The input tuple follows 1-based indexing. This means the element at index 0 is treated as having index as 1.\n",
    "\n",
    "  Example Input:<br>\n",
    "  1<br>\n",
    "  (10, 8, 5, 2, 10, 15, 10, 8, 5, 8, 8, 2)<br>\n",
    "\n",
    "\n",
    "  Example Output:<br>\n",
    "  Odd: (10, 5, 10, 10, 5, 8)<br>\n",
    "  Even: (8, 2, 15, 8, 8, 2)"
   ]
  },
  {
   "cell_type": "code",
   "execution_count": 1,
   "metadata": {},
   "outputs": [
    {
     "name": "stdout",
     "output_type": "stream",
     "text": [
      "Odd: (10, 5, 10, 10, 5, 8)\n",
      "Even: (8, 2, 15, 8, 8, 2)\n"
     ]
    }
   ],
   "source": [
    "tup = (10, 8, 5, 2, 10, 15, 10, 8, 5, 8, 8, 2)\n",
    "\n",
    "odd=[]\n",
    "even=[]\n",
    "loop=0\n",
    "for i in tup:\n",
    "    loop+=1\n",
    "    if loop%2!=0:\n",
    "        odd.append(i)\n",
    "    else:\n",
    "        even.append(i)\n",
    "print(\"Odd:\", tuple(odd))\n",
    "print(\"Even:\", tuple(even))"
   ]
  },
  {
   "cell_type": "markdown",
   "metadata": {},
   "source": [
    "Question 2:\n",
    "\n",
    "Write a program that reads an integer array A from input and modifies the array by shifting each element to the right by one position and by shifting the last element to the first position. Return the modified array.\n",
    "\n",
    "Example Input:<br>\n",
    "5 <br>\n",
    "1 2 3 4 5<br>\n",
    "\n",
    "Example Output:<br>\n",
    "5 1 2 3 4"
   ]
  },
  {
   "cell_type": "code",
   "execution_count": 5,
   "metadata": {},
   "outputs": [
    {
     "name": "stdout",
     "output_type": "stream",
     "text": [
      "6 1 2 3 4 5 "
     ]
    }
   ],
   "source": [
    "t = int(input())\n",
    "n = input().split()\n",
    "N = [int(i) for i in n]\n",
    "x = N.pop()\n",
    "N.insert(0,x)\n",
    "for i in N :\n",
    "    print(i, end = \" \")"
   ]
  },
  {
   "cell_type": "markdown",
   "metadata": {},
   "source": [
    "Question 3:\n",
    "\n",
    "Split a tuple into n parts of equal size. (Within 7 LOC)"
   ]
  },
  {
   "cell_type": "code",
   "execution_count": 9,
   "metadata": {},
   "outputs": [
    {
     "name": "stdout",
     "output_type": "stream",
     "text": [
      "[(1, 2), (3, 4), (5, 6)]\n"
     ]
    }
   ],
   "source": [
    "tup = (1, 2, 3, 4, 5, 6)\n",
    "n = 2\n",
    "result = [tup[i:i+n] for i in range(0, len(tup), n)]\n",
    "print(result)  # Output: ((1, 2, 3), (4, 5, 6))"
   ]
  }
 ],
 "metadata": {
  "kernelspec": {
   "display_name": "Python 3",
   "language": "python",
   "name": "python3"
  },
  "language_info": {
   "codemirror_mode": {
    "name": "ipython",
    "version": 3
   },
   "file_extension": ".py",
   "mimetype": "text/x-python",
   "name": "python",
   "nbconvert_exporter": "python",
   "pygments_lexer": "ipython3",
   "version": "3.11.3"
  }
 },
 "nbformat": 4,
 "nbformat_minor": 2
}
